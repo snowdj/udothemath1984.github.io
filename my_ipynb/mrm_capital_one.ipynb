{
 "cells": [
  {
   "cell_type": "markdown",
   "metadata": {},
   "source": [
    "- Definition of a model  \n",
    "- Examples of model types used by banks  \n",
    "- Definition of model risk  \n",
    "- Regulatory requirements for managing model risk  \n",
    "- The components of a model risk program  \n",
    "- Key questions to ask when using models to make decisions  \n",
    "    * sh  \n",
    "    * he  \n",
    "\n",
    "\n",
    "The risk comes from defective models and misuse of the models. Effective MSM can improve an institutions's earnings through cost reduction, loss avoidance, and capital improvement. Cost reduction and loss avoidance come mainly from increased operational and process efficiency in model development and validation, including the elimination of defective models.\n",
    "\n",
    "The ultimate gola of MRM should be efficiencies and value. \n",
    "\n",
    "Process automation defines MRM maturity, as model development, validation, and resource management are “industrialized” (Exhibit 2). \n",
    "\n",
    "Responsibilities:\n",
    "• Assess the quality and risk of model methodologies, outputs, and processes\n",
    "• Research state-of-the-art modeling techniques/tools to advance future capabilities\n",
    "• Design analysis to explore model’s sensitivity and limits \n",
    "• Develop benchmarking models as needed\n",
    "• Execute validation plans and provide feedback to management\n",
    "• Communicate validation results via model validation reports and/or presentations\n"
   ]
  },
  {
   "cell_type": "markdown",
   "metadata": {},
   "source": [
    "## References\n",
    "\n",
    "https://www.iif.com/publication/research-note/machine-learning-revolution-risk-management-and-compliance\n",
    "http://www.mckinsey.com/business-functions/risk/our-insights/the-evolution-of-model-risk-management#0"
   ]
  },
  {
   "cell_type": "code",
   "execution_count": null,
   "metadata": {
    "collapsed": true
   },
   "outputs": [],
   "source": []
  }
 ],
 "metadata": {
  "kernelspec": {
   "display_name": "Python 3",
   "language": "python",
   "name": "python3"
  },
  "language_info": {
   "codemirror_mode": {
    "name": "ipython",
    "version": 3
   },
   "file_extension": ".py",
   "mimetype": "text/x-python",
   "name": "python",
   "nbconvert_exporter": "python",
   "pygments_lexer": "ipython3",
   "version": "3.6.0"
  }
 },
 "nbformat": 4,
 "nbformat_minor": 2
}
